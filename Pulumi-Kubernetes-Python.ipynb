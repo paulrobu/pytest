{
 "cells": [
  {
   "cell_type": "markdown",
   "id": "c462e249",
   "metadata": {},
   "source": [
    "1. Get the example at https://www.pulumi.com/registry/packages/kubernetes/how-to-guides/kubernetes-py-nginx/  working on your local kubernetes cluster (k0s, MicroK8s, kind, k3s, Minikube - your choice).\n",
    "\n",
    "Note:\n",
    "- alternatively, create a new project with `pulumi new kubernetes-python` and start from default deployment resource;\n",
    "- can use local filesystem for pulumi backend by running `pulumi login -l` and verify with `pulumi whoami -v`\n"
   ]
  },
  {
   "cell_type": "code",
   "execution_count": null,
   "id": "4fbdf35b",
   "metadata": {},
   "outputs": [],
   "source": []
  },
  {
   "cell_type": "markdown",
   "id": "92720a38",
   "metadata": {},
   "source": [
    "2. Update the pulumi stack resulting from the previous step to deploy a different image (e.g, bitnami/kubeapps-dashboard, alexwhen/docker-2048 or any other web app that you prefer) with two replicas, in a namespace named \"test\" created as https://www.pulumi.com/registry/packages/kubernetes/api-docs/core/v1/namespace resource or given from config file."
   ]
  },
  {
   "cell_type": "code",
   "execution_count": null,
   "id": "28c1e996",
   "metadata": {},
   "outputs": [],
   "source": []
  }
 ],
 "metadata": {
  "kernelspec": {
   "display_name": "Python 3 (ipykernel)",
   "language": "python",
   "name": "python3"
  },
  "language_info": {
   "codemirror_mode": {
    "name": "ipython",
    "version": 3
   },
   "file_extension": ".py",
   "mimetype": "text/x-python",
   "name": "python",
   "nbconvert_exporter": "python",
   "pygments_lexer": "ipython3",
   "version": "3.10.4"
  }
 },
 "nbformat": 4,
 "nbformat_minor": 5
}
