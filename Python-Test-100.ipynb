{
 "cells": [
  {
   "cell_type": "markdown",
   "id": "33f45cda",
   "metadata": {},
   "source": [
    "1. Check if a list is empty"
   ]
  },
  {
   "cell_type": "code",
   "execution_count": null,
   "id": "76f1b2cb",
   "metadata": {},
   "outputs": [],
   "source": []
  },
  {
   "cell_type": "markdown",
   "id": "43b018bc",
   "metadata": {},
   "source": [
    "2. Convert a list into a string"
   ]
  },
  {
   "cell_type": "code",
   "execution_count": null,
   "id": "6177004a",
   "metadata": {},
   "outputs": [],
   "source": []
  },
  {
   "cell_type": "markdown",
   "id": "0b64460a",
   "metadata": {},
   "source": [
    "3. Get the number of elements in a list"
   ]
  },
  {
   "cell_type": "code",
   "execution_count": null,
   "id": "5dc7150c",
   "metadata": {},
   "outputs": [],
   "source": []
  },
  {
   "cell_type": "markdown",
   "id": "83c1346c",
   "metadata": {},
   "source": [
    "4. Access the index while iterating over a sequence with a for loop"
   ]
  },
  {
   "cell_type": "code",
   "execution_count": null,
   "id": "aff0d15c",
   "metadata": {},
   "outputs": [],
   "source": []
  },
  {
   "cell_type": "markdown",
   "id": "ed34ff8e",
   "metadata": {},
   "source": [
    "5. Write a program to display the calendar for current month"
   ]
  },
  {
   "cell_type": "code",
   "execution_count": null,
   "id": "4fa13b16",
   "metadata": {},
   "outputs": [],
   "source": []
  },
  {
   "cell_type": "markdown",
   "id": "d4ebe660",
   "metadata": {},
   "source": [
    "6. Write a program to display multiplication table for a given number using for loop."
   ]
  },
  {
   "cell_type": "code",
   "execution_count": null,
   "id": "cb96d03a",
   "metadata": {},
   "outputs": [],
   "source": []
  },
  {
   "cell_type": "markdown",
   "id": "0de234eb",
   "metadata": {},
   "source": [
    "7. Write a program to display a listing with only the files modified today in the current directory."
   ]
  },
  {
   "cell_type": "code",
   "execution_count": null,
   "id": "17e35f08",
   "metadata": {},
   "outputs": [],
   "source": []
  }
 ],
 "metadata": {
  "kernelspec": {
   "display_name": "Python 3 (ipykernel)",
   "language": "python",
   "name": "python3"
  },
  "language_info": {
   "codemirror_mode": {
    "name": "ipython",
    "version": 3
   },
   "file_extension": ".py",
   "mimetype": "text/x-python",
   "name": "python",
   "nbconvert_exporter": "python",
   "pygments_lexer": "ipython3",
   "version": "3.10.4"
  }
 },
 "nbformat": 4,
 "nbformat_minor": 5
}
