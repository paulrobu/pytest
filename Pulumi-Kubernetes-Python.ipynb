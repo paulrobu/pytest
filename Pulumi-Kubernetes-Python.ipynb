{
 "cells": [
  {
   "cell_type": "markdown",
   "id": "83a63560",
   "metadata": {},
   "source": [
    "### Deploy a simple web application into an existing Kubernetes cluster"
   ]
  },
  {
   "cell_type": "markdown",
   "id": "c462e249",
   "metadata": {},
   "source": [
    "1. Get the example at https://www.pulumi.com/registry/packages/kubernetes/how-to-guides/kubernetes-py-nginx/  running on your local kubernetes cluster (k0s, MicroK8s, kind, k3s, Minikube, Rancher - your choice).\n",
    "\n",
    "Notes:\n",
    "- alternatively, create a new project with `pulumi new kubernetes-python` and start from default deployment resource;\n",
    "- can use local filesystem for pulumi backend by running `pulumi login -l` and verify with `pulumi whoami -v`\n"
   ]
  },
  {
   "cell_type": "code",
   "execution_count": null,
   "id": "4fbdf35b",
   "metadata": {},
   "outputs": [],
   "source": []
  },
  {
   "cell_type": "markdown",
   "id": "92720a38",
   "metadata": {},
   "source": [
    "2. Update the pulumi stack from previous step to deploy a different image (e.g, alexwhen/docker-2048 or any other web app that you prefer) with two replicas, in a namespace named \"test\" created as https://www.pulumi.com/registry/packages/kubernetes/api-docs/core/v1/namespace resource or given from config file."
   ]
  },
  {
   "cell_type": "code",
   "execution_count": null,
   "id": "28c1e996",
   "metadata": {},
   "outputs": [],
   "source": []
  },
  {
   "cell_type": "markdown",
   "id": "6e12d408",
   "metadata": {},
   "source": [
    "3. Expose the deployment from previous step as a Kubernetes Service of type NodePort using https://www.pulumi.com/registry/packages/kubernetes/api-docs/core/v1/service/ pulumi resource."
   ]
  },
  {
   "cell_type": "code",
   "execution_count": null,
   "id": "4db87b11",
   "metadata": {},
   "outputs": [],
   "source": []
  },
  {
   "cell_type": "markdown",
   "id": "8bbf143d",
   "metadata": {},
   "source": [
    "---"
   ]
  },
  {
   "cell_type": "code",
   "execution_count": null,
   "id": "ef145cd6",
   "metadata": {},
   "outputs": [],
   "source": [
    "Fastest alternative: start from webapp-kubernetes-python template."
   ]
  }
 ],
 "metadata": {
  "kernelspec": {
   "display_name": "Python 3 (ipykernel)",
   "language": "python",
   "name": "python3"
  },
  "language_info": {
   "codemirror_mode": {
    "name": "ipython",
    "version": 3
   },
   "file_extension": ".py",
   "mimetype": "text/x-python",
   "name": "python",
   "nbconvert_exporter": "python",
   "pygments_lexer": "ipython3",
   "version": "3.10.4"
  }
 },
 "nbformat": 4,
 "nbformat_minor": 5
}
